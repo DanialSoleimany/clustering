{
 "cells": [
  {
   "cell_type": "code",
   "execution_count": 11,
   "id": "a5c4889a",
   "metadata": {},
   "outputs": [],
   "source": [
    "styles = \"\"\"\n",
    "<style>\n",
    "    .social-container {\n",
    "        display: flex;\n",
    "        justify-content: center; /* Center horizontally */\n",
    "        align-items: center; /* Center vertically */\n",
    "        height: 100%; /* Make sure the container takes full height */\n",
    "    }\n",
    "    .social-link {\n",
    "        margin-right: 50px; /* Adjust the horizontal distance between logos */\n",
    "    }\n",
    "    .social-logo {\n",
    "        width: 50px; /* Adjust the initial width as needed */\n",
    "        height: 50px; /* Adjust the initial height as needed */\n",
    "        transition: transform 0.3s ease-in-out;\n",
    "    }\n",
    "    .social-logo:hover {\n",
    "        transform: scale(1.1); /* Scale up by 10% on hover */\n",
    "    }\n",
    "    .social-logo:last-child {\n",
    "        margin-right: 0; /* Remove right margin for the last logo */\n",
    "    }\n",
    "</style>\n",
    "\"\"\"\n",
    "\n",
    "%store -r styles\n",
    "\n"
   ]
  },
  {
   "cell_type": "code",
   "execution_count": null,
   "id": "c0c8c09c",
   "metadata": {},
   "outputs": [],
   "source": []
  }
 ],
 "metadata": {
  "kernelspec": {
   "display_name": "Python 3 (ipykernel)",
   "language": "python",
   "name": "python3"
  },
  "language_info": {
   "codemirror_mode": {
    "name": "ipython",
    "version": 3
   },
   "file_extension": ".py",
   "mimetype": "text/x-python",
   "name": "python",
   "nbconvert_exporter": "python",
   "pygments_lexer": "ipython3",
   "version": "3.11.5"
  }
 },
 "nbformat": 4,
 "nbformat_minor": 5
}
